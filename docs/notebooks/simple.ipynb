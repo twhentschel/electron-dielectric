{
 "cells": [
  {
   "cell_type": "markdown",
   "id": "f9694d6a-6fb9-4c98-9b25-2ed7ee8ffc27",
   "metadata": {},
   "source": [
    "# Using ElectronGas and dielectric\n",
    "\n",
    "The `ElectronGas` class is used to hold the physical parameters describing the electrons (e.g. temperature, density, etc.). The dielectric subpackage contains two models (`RPA` and `Mermin`) to compute the dielectric function."
   ]
  },
  {
   "cell_type": "code",
   "execution_count": 1,
   "id": "b8d2aba3-5592-46d6-b0bd-3d3cbac09223",
   "metadata": {
    "tags": []
   },
   "outputs": [],
   "source": [
    "import numpy as np\n",
    "import matplotlib.pyplot as plt\n",
    "\n",
    "from uegdielectric import ElectronGas\n",
    "from uegdielectric.dielectric import RPA, Mermin"
   ]
  },
  {
   "cell_type": "markdown",
   "id": "4b251d2e-5279-45de-a4b5-f300ac8c5e3f",
   "metadata": {
    "tags": []
   },
   "source": [
    "Define some constants that will be used to convert units to atomic units (a.u.) (see [this Wikipedia article](https://en.wikipedia.org/wiki/Hartree_atomic_units) for more details)."
   ]
  },
  {
   "cell_type": "code",
   "execution_count": 2,
   "id": "034e6f14-a531-4b8b-8157-29dc02fe66fe",
   "metadata": {
    "tags": []
   },
   "outputs": [],
   "source": [
    "# atomic unit of energy: 1 hartree = 27.2114 eV (electron volts)\n",
    "Ha = 27.2114 # eV\n",
    "# atomic unit of length: 1 bohr radius = 0.529 A (angstroms)\n",
    "a0 = 0.529177 # A\n",
    "# Boltzmann's constant -- used to convert temperature (K, kelvin) to thermal energy (eV)\n",
    "kB = 8.61733E-5 # eV/K"
   ]
  },
  {
   "cell_type": "markdown",
   "id": "51ffefbb-bd49-4365-9b8e-3d64d86b23b9",
   "metadata": {},
   "source": [
    "Define electron temperature and density"
   ]
  },
  {
   "cell_type": "code",
   "execution_count": 3,
   "id": "b48b1060-78e0-4efc-8218-72ff515a8f19",
   "metadata": {},
   "outputs": [],
   "source": [
    "# temperature\n",
    "temp = 10000 # [K]\n",
    "# convert to thermal energy\n",
    "t_eV = kB * temp # [eV]\n",
    "# convert to atomic units [a.u.]\n",
    "t = t_eV / Ha # [au]\n",
    "\n",
    "# density\n",
    "den_cc = 1.807E23 # [electrons]/[cm^3]\n",
    "# convert to atomic units (convert a0 to [cm] first\n",
    "d = den_cc * (a0 * 10**-8)**3 # [au]\n",
    "\n",
    "# Create ElectronGas object\n",
    "electrons = ElectronGas(t, d)"
   ]
  },
  {
   "cell_type": "code",
   "execution_count": 4,
   "id": "5d754055-4b48-435b-a91e-3b9a546c0917",
   "metadata": {
    "tags": []
   },
   "outputs": [
    {
     "data": {
      "text/plain": [
       "0.426293554933412"
      ]
     },
     "execution_count": 4,
     "metadata": {},
     "output_type": "execute_result"
    }
   ],
   "source": [
    "electrons.chempot"
   ]
  },
  {
   "cell_type": "code",
   "execution_count": null,
   "id": "33e8cedd-03fb-4418-97d4-0b625d471520",
   "metadata": {},
   "outputs": [],
   "source": []
  }
 ],
 "metadata": {
  "kernelspec": {
   "display_name": "ueg-dielectric-3.11",
   "language": "python",
   "name": "ueg-dielectric-3.11"
  },
  "language_info": {
   "codemirror_mode": {
    "name": "ipython",
    "version": 3
   },
   "file_extension": ".py",
   "mimetype": "text/x-python",
   "name": "python",
   "nbconvert_exporter": "python",
   "pygments_lexer": "ipython3",
   "version": "3.11.3"
  }
 },
 "nbformat": 4,
 "nbformat_minor": 5
}
